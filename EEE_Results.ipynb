{
  "nbformat": 4,
  "nbformat_minor": 0,
  "metadata": {
    "colab": {
      "provenance": [],
      "authorship_tag": "ABX9TyNkgYV6/JXqewAoMUfDcVDU",
      "include_colab_link": true
    },
    "kernelspec": {
      "name": "python3",
      "display_name": "Python 3"
    },
    "language_info": {
      "name": "python"
    }
  },
  "cells": [
    {
      "cell_type": "markdown",
      "metadata": {
        "id": "view-in-github",
        "colab_type": "text"
      },
      "source": [
        "<a href=\"https://colab.research.google.com/github/yehaa2004/pdf-to-csv/blob/main/EEE_Results.ipynb\" target=\"_parent\"><img src=\"https://colab.research.google.com/assets/colab-badge.svg\" alt=\"Open In Colab\"/></a>"
      ]
    },
    {
      "cell_type": "code",
      "execution_count": 1,
      "metadata": {
        "colab": {
          "base_uri": "https://localhost:8080/"
        },
        "id": "YVTkvDNUBIh-",
        "outputId": "8214bfe6-9317-4675-806c-d117fc8b2085"
      },
      "outputs": [
        {
          "output_type": "stream",
          "name": "stdout",
          "text": [
            "Collecting tabula-py\n",
            "  Downloading tabula_py-2.9.0-py3-none-any.whl (12.0 MB)\n",
            "\u001b[2K     \u001b[90m━━━━━━━━━━━━━━━━━━━━━━━━━━━━━━━━━━━━━━━━\u001b[0m \u001b[32m12.0/12.0 MB\u001b[0m \u001b[31m19.7 MB/s\u001b[0m eta \u001b[36m0:00:00\u001b[0m\n",
            "\u001b[?25hRequirement already satisfied: pandas>=0.25.3 in /usr/local/lib/python3.10/dist-packages (from tabula-py) (2.0.3)\n",
            "Requirement already satisfied: numpy in /usr/local/lib/python3.10/dist-packages (from tabula-py) (1.25.2)\n",
            "Requirement already satisfied: distro in /usr/lib/python3/dist-packages (from tabula-py) (1.7.0)\n",
            "Requirement already satisfied: python-dateutil>=2.8.2 in /usr/local/lib/python3.10/dist-packages (from pandas>=0.25.3->tabula-py) (2.8.2)\n",
            "Requirement already satisfied: pytz>=2020.1 in /usr/local/lib/python3.10/dist-packages (from pandas>=0.25.3->tabula-py) (2023.4)\n",
            "Requirement already satisfied: tzdata>=2022.1 in /usr/local/lib/python3.10/dist-packages (from pandas>=0.25.3->tabula-py) (2024.1)\n",
            "Requirement already satisfied: six>=1.5 in /usr/local/lib/python3.10/dist-packages (from python-dateutil>=2.8.2->pandas>=0.25.3->tabula-py) (1.16.0)\n",
            "Installing collected packages: tabula-py\n",
            "Successfully installed tabula-py-2.9.0\n"
          ]
        }
      ],
      "source": [
        "!pip install tabula-py"
      ]
    },
    {
      "cell_type": "code",
      "source": [
        "import tabula"
      ],
      "metadata": {
        "id": "MKN0JjCTCb_6"
      },
      "execution_count": 2,
      "outputs": []
    },
    {
      "cell_type": "code",
      "source": [
        "import csv"
      ],
      "metadata": {
        "id": "pCZrPGGDCdUH"
      },
      "execution_count": 3,
      "outputs": []
    },
    {
      "cell_type": "code",
      "source": [
        "file = \"/content/sample_data/NOV DEC2023 EEE RESULTS.pdf\""
      ],
      "metadata": {
        "id": "mmHqJgJaCzfP"
      },
      "execution_count": 22,
      "outputs": []
    },
    {
      "cell_type": "code",
      "source": [
        "df_1 = tabula.read_pdf('/content/sample_data/NOV DEC2023 EEE RESULTS.pdf')"
      ],
      "metadata": {
        "colab": {
          "base_uri": "https://localhost:8080/"
        },
        "id": "epJoEOr1DOZF",
        "outputId": "e56ed41d-6bb5-4cfb-9452-796b4e1a92bb"
      },
      "execution_count": 23,
      "outputs": [
        {
          "output_type": "stream",
          "name": "stderr",
          "text": [
            "WARNING:tabula.util:'pages' argument isn't specified.Will extract only from page 1 by default.\n",
            "WARNING:tabula.backend:Got stderr: Apr 24, 2024 4:50:03 AM org.apache.pdfbox.pdmodel.font.PDType1Font <init>\n",
            "WARNING: Using fallback font LiberationSans for base font Symbol\n",
            "Apr 24, 2024 4:50:03 AM org.apache.pdfbox.pdmodel.font.PDType1Font <init>\n",
            "WARNING: Using fallback font LiberationSans for base font ZapfDingbats\n",
            "\n"
          ]
        }
      ]
    },
    {
      "cell_type": "code",
      "source": [
        "print(df_1)"
      ],
      "metadata": {
        "colab": {
          "base_uri": "https://localhost:8080/"
        },
        "id": "thsUch18DtnF",
        "outputId": "405e46d4-707b-4c39-933d-0d5dcf5230f8"
      },
      "execution_count": 24,
      "outputs": [
        {
          "output_type": "stream",
          "name": "stdout",
          "text": [
            "[      Unnamed: 0     Subject Code - > BS3171 CY3151 GE3151 GE3152 GE3171  \\\n",
            "0    Reg. Number           Stud. Name  Grade  Grade  Grade  Grade  Grade   \n",
            "1   715521105004               ABI  P    NaN    NaN    NaN    NaN    NaN   \n",
            "2   715522105033         NATARAJAN  K    NaN    NaN    NaN    NaN    NaN   \n",
            "3   715523105001         AISHWARYA  C      O      A      O     A+      O   \n",
            "4   715523105002            ALLWIN  R      O      A     B+     B+      O   \n",
            "5   715523105003    ANANTHAKUMAR  M S      O      A      A     A+      O   \n",
            "6   715523105004       ANGULAKSHMI  R      O      O     B+     A+      O   \n",
            "7   715523105005           ANIRUDH  R      O     A+     B+      A      O   \n",
            "8   715523105006    ANKIT CHANDRAN  R      O      A      A     B+      O   \n",
            "9   715523105007         ANUBRILYA  K      O      A      A      A      O   \n",
            "10  715523105008           ARAVIND  K      O     B+      C     B+      O   \n",
            "11  715523105009          ATHELESH  B      O     A+      A     A+      O   \n",
            "12  715523105010    BARATH KRISHNA  R      O      A     B+     B+      O   \n",
            "13  715523105011       BARATHWIN  A N      O     B+     B+     B+      O   \n",
            "14  715523105012          CHITRUPA  S      O     A+     A+     B+      O   \n",
            "15  715523105013        DHAARANI  A R      O     A+     A+      O      O   \n",
            "16  715523105014            DHARUN  V      O     A+     A+      A      O   \n",
            "17  715523105015       DHARUNIKA  T B      O     A+     A+     A+      O   \n",
            "18  715523105016          DIVYAN  P M      O     B+     B+     B+      O   \n",
            "19  715523105017          GAUTAM  V R      O      A     A+      A      O   \n",
            "20  715523105018        GOPIKA SRI  P      O     B+     B+      B      O   \n",
            "21  715523105019           GOWTHAM  R      O     B+     B+     A+      O   \n",
            "22  715523105020      GUNASEELAN  A M      O      A      A     B+      O   \n",
            "23  715523105021      GURUSANKARAN  M      O      A      A     A+      O   \n",
            "24  715523105022            HAFILA  H      O     A+     B+      O      O   \n",
            "25  715523105023            HARINI  S      O      A     B+     B+      O   \n",
            "26  715523105024     JABEZ AZARIAH  S      O      A      A      A      O   \n",
            "27  715523105025          JANANI  A P      O      A      A     A+      O   \n",
            "28  715523105026     KAMALESHVAR  K K      O     A+     A+      A      O   \n",
            "29  715523105027  LENA SHRINIVAS  K S      O     A+     B+      A      O   \n",
            "30  715523105028     MAGHINTHAN MOHAN      O     A+      A      A      O   \n",
            "31           NaN                SELVI    NaN    NaN    NaN    NaN    NaN   \n",
            "32  715523105029           MAHADEV  A      O      A     B+     A+      O   \n",
            "33  715523105030         MANASHA  K G      O     A+      A     A+      O   \n",
            "34  715523105031       MOHAN KUMAR  G      O      A     B+      A      O   \n",
            "\n",
            "   GE3172 HS3152 MA3151 PH3151  \n",
            "0   Grade  Grade  Grade  Grade  \n",
            "1     NaN    NaN     B+    NaN  \n",
            "2     NaN    NaN      U    NaN  \n",
            "3       O      A     A+     A+  \n",
            "4       O      A      A     A+  \n",
            "5       O      A      A     A+  \n",
            "6       O      A      O     A+  \n",
            "7       O     B+     B+     A+  \n",
            "8       O      A      O      A  \n",
            "9       O     B+     A+     A+  \n",
            "10      O     B+     B+      B  \n",
            "11      O      A      A      O  \n",
            "12      O     B+      O     B+  \n",
            "13      O     A+      A      B  \n",
            "14      O      A     B+      A  \n",
            "15      O      A     A+      O  \n",
            "16      O      A      O     A+  \n",
            "17      O     B+      O      O  \n",
            "18      O      A     B+      A  \n",
            "19      O      A      O      O  \n",
            "20      O     B+     A+      A  \n",
            "21      O     B+      C      B  \n",
            "22      O      A      A      B  \n",
            "23      O      A      A     A+  \n",
            "24      O      A      O     A+  \n",
            "25      O     B+      B      A  \n",
            "26      O     B+      O     A+  \n",
            "27      O     B+      A      O  \n",
            "28      O     B+      O     A+  \n",
            "29      O     B+      O     A+  \n",
            "30      O      A     A+     A+  \n",
            "31    NaN    NaN    NaN    NaN  \n",
            "32      O     B+     B+     A+  \n",
            "33      O      A     A+      O  \n",
            "34      O     A+      C     B+  ]\n"
          ]
        }
      ]
    },
    {
      "cell_type": "code",
      "source": [
        "!pip install tabula-py"
      ],
      "metadata": {
        "colab": {
          "base_uri": "https://localhost:8080/"
        },
        "id": "ztts_BG4Dxx0",
        "outputId": "abd37eb3-80e8-45de-f0e7-9816f429a5fd"
      },
      "execution_count": 25,
      "outputs": [
        {
          "output_type": "stream",
          "name": "stdout",
          "text": [
            "Requirement already satisfied: tabula-py in /usr/local/lib/python3.10/dist-packages (2.9.0)\n",
            "Requirement already satisfied: pandas>=0.25.3 in /usr/local/lib/python3.10/dist-packages (from tabula-py) (2.0.3)\n",
            "Requirement already satisfied: numpy in /usr/local/lib/python3.10/dist-packages (from tabula-py) (1.25.2)\n",
            "Requirement already satisfied: distro in /usr/lib/python3/dist-packages (from tabula-py) (1.7.0)\n",
            "Requirement already satisfied: python-dateutil>=2.8.2 in /usr/local/lib/python3.10/dist-packages (from pandas>=0.25.3->tabula-py) (2.8.2)\n",
            "Requirement already satisfied: pytz>=2020.1 in /usr/local/lib/python3.10/dist-packages (from pandas>=0.25.3->tabula-py) (2023.4)\n",
            "Requirement already satisfied: tzdata>=2022.1 in /usr/local/lib/python3.10/dist-packages (from pandas>=0.25.3->tabula-py) (2024.1)\n",
            "Requirement already satisfied: six>=1.5 in /usr/local/lib/python3.10/dist-packages (from python-dateutil>=2.8.2->pandas>=0.25.3->tabula-py) (1.16.0)\n"
          ]
        }
      ]
    },
    {
      "cell_type": "code",
      "source": [
        "import tabula"
      ],
      "metadata": {
        "id": "ycBU6b7qEGLF"
      },
      "execution_count": 26,
      "outputs": []
    },
    {
      "cell_type": "code",
      "source": [
        "file = \"/content/sample_data/NOV DEC2023 EEE RESULTS.pdf\"\n"
      ],
      "metadata": {
        "id": "4LA-0Z2KELHD"
      },
      "execution_count": 27,
      "outputs": []
    },
    {
      "cell_type": "code",
      "source": [
        "output = tabula.convert_into(file, \"/content/sample_data/NOV DEC2023 EEE RESULTS.csv\", output_format=\"csv\", pages=[1, 2])"
      ],
      "metadata": {
        "colab": {
          "base_uri": "https://localhost:8080/"
        },
        "id": "TtWteY0EF53d",
        "outputId": "ebcb1b72-9d5d-4c3d-95fb-1f75976d413f"
      },
      "execution_count": 28,
      "outputs": [
        {
          "output_type": "stream",
          "name": "stderr",
          "text": [
            "WARNING:tabula.backend:Got stderr: Apr 24, 2024 4:52:02 AM org.apache.pdfbox.pdmodel.font.PDType1Font <init>\n",
            "WARNING: Using fallback font LiberationSans for base font Symbol\n",
            "Apr 24, 2024 4:52:02 AM org.apache.pdfbox.pdmodel.font.PDType1Font <init>\n",
            "WARNING: Using fallback font LiberationSans for base font ZapfDingbats\n",
            "\n"
          ]
        }
      ]
    },
    {
      "cell_type": "code",
      "source": [
        "print(output)"
      ],
      "metadata": {
        "colab": {
          "base_uri": "https://localhost:8080/"
        },
        "id": "_uaKJeBRHDi3",
        "outputId": "5ed45b99-187b-4b68-cf33-e2062872ae36"
      },
      "execution_count": 29,
      "outputs": [
        {
          "output_type": "stream",
          "name": "stdout",
          "text": [
            "None\n"
          ]
        }
      ]
    },
    {
      "cell_type": "code",
      "source": [
        "file = open('/content/sample_data/NOV DEC2023 EEE RESULTS.csv')\n",
        "type(file)"
      ],
      "metadata": {
        "colab": {
          "base_uri": "https://localhost:8080/"
        },
        "id": "I7u2VErXHJbT",
        "outputId": "c27dde10-5d11-4c5b-d05e-a6324988a701"
      },
      "execution_count": 30,
      "outputs": [
        {
          "output_type": "execute_result",
          "data": {
            "text/plain": [
              "_io.TextIOWrapper"
            ]
          },
          "metadata": {},
          "execution_count": 30
        }
      ]
    },
    {
      "cell_type": "code",
      "source": [
        "import pandas as pd"
      ],
      "metadata": {
        "id": "dfb0peE9HPpK"
      },
      "execution_count": 31,
      "outputs": []
    },
    {
      "cell_type": "code",
      "source": [
        "data= pd.read_csv(\"/content/sample_data/NOV DEC2023 EEE RESULTS.csv\")\n",
        "data"
      ],
      "metadata": {
        "colab": {
          "base_uri": "https://localhost:8080/",
          "height": 687
        },
        "id": "vQzg7zykHTPJ",
        "outputId": "76d74321-f50b-47d8-80a9-dc9ab2cc7aab"
      },
      "execution_count": 32,
      "outputs": [
        {
          "output_type": "execute_result",
          "data": {
            "text/plain": [
              "      Unnamed: 0    Subject Code - > BS3171 CY3151 GE3151 GE3152 GE3171  \\\n",
              "0    Reg. Number          Stud. Name  Grade  Grade  Grade  Grade  Grade   \n",
              "1   715521105004              ABI  P    NaN    NaN    NaN    NaN    NaN   \n",
              "2   715522105033        NATARAJAN  K    NaN    NaN    NaN    NaN    NaN   \n",
              "3   715523105001        AISHWARYA  C      O      A      O     A+      O   \n",
              "4   715523105002           ALLWIN  R      O      A     B+     B+      O   \n",
              "..           ...                 ...    ...    ...    ...    ...    ...   \n",
              "85  715523105054       VELMURUGAN  K      O      A     B+      O      O   \n",
              "86  715523105055       VETRIVEL  P A      O      A     B+      A      O   \n",
              "87  715523105056     VISHNU PRIYA  R      O      A      B     A+      O   \n",
              "88  715523105057  YASHWANTH DARAN  D      O      A     B+     B+      O   \n",
              "89  715523105058     YOKESH KUMAR  B      O      A     B+     B+      O   \n",
              "\n",
              "   GE3172 HS3152 MA3151 PH3151  \n",
              "0   Grade  Grade  Grade  Grade  \n",
              "1     NaN    NaN     B+    NaN  \n",
              "2     NaN    NaN      U    NaN  \n",
              "3       O      A     A+     A+  \n",
              "4       O      A      A     A+  \n",
              "..    ...    ...    ...    ...  \n",
              "85      O     A+      A     A+  \n",
              "86      O      A      A     B+  \n",
              "87      O     A+     A+     A+  \n",
              "88      O      A      O      O  \n",
              "89      O     B+     A+     A+  \n",
              "\n",
              "[90 rows x 11 columns]"
            ],
            "text/html": [
              "\n",
              "  <div id=\"df-0c1fefb3-387b-4c22-b43a-1066f335518f\" class=\"colab-df-container\">\n",
              "    <div>\n",
              "<style scoped>\n",
              "    .dataframe tbody tr th:only-of-type {\n",
              "        vertical-align: middle;\n",
              "    }\n",
              "\n",
              "    .dataframe tbody tr th {\n",
              "        vertical-align: top;\n",
              "    }\n",
              "\n",
              "    .dataframe thead th {\n",
              "        text-align: right;\n",
              "    }\n",
              "</style>\n",
              "<table border=\"1\" class=\"dataframe\">\n",
              "  <thead>\n",
              "    <tr style=\"text-align: right;\">\n",
              "      <th></th>\n",
              "      <th>Unnamed: 0</th>\n",
              "      <th>Subject Code - &gt;</th>\n",
              "      <th>BS3171</th>\n",
              "      <th>CY3151</th>\n",
              "      <th>GE3151</th>\n",
              "      <th>GE3152</th>\n",
              "      <th>GE3171</th>\n",
              "      <th>GE3172</th>\n",
              "      <th>HS3152</th>\n",
              "      <th>MA3151</th>\n",
              "      <th>PH3151</th>\n",
              "    </tr>\n",
              "  </thead>\n",
              "  <tbody>\n",
              "    <tr>\n",
              "      <th>0</th>\n",
              "      <td>Reg. Number</td>\n",
              "      <td>Stud. Name</td>\n",
              "      <td>Grade</td>\n",
              "      <td>Grade</td>\n",
              "      <td>Grade</td>\n",
              "      <td>Grade</td>\n",
              "      <td>Grade</td>\n",
              "      <td>Grade</td>\n",
              "      <td>Grade</td>\n",
              "      <td>Grade</td>\n",
              "      <td>Grade</td>\n",
              "    </tr>\n",
              "    <tr>\n",
              "      <th>1</th>\n",
              "      <td>715521105004</td>\n",
              "      <td>ABI  P</td>\n",
              "      <td>NaN</td>\n",
              "      <td>NaN</td>\n",
              "      <td>NaN</td>\n",
              "      <td>NaN</td>\n",
              "      <td>NaN</td>\n",
              "      <td>NaN</td>\n",
              "      <td>NaN</td>\n",
              "      <td>B+</td>\n",
              "      <td>NaN</td>\n",
              "    </tr>\n",
              "    <tr>\n",
              "      <th>2</th>\n",
              "      <td>715522105033</td>\n",
              "      <td>NATARAJAN  K</td>\n",
              "      <td>NaN</td>\n",
              "      <td>NaN</td>\n",
              "      <td>NaN</td>\n",
              "      <td>NaN</td>\n",
              "      <td>NaN</td>\n",
              "      <td>NaN</td>\n",
              "      <td>NaN</td>\n",
              "      <td>U</td>\n",
              "      <td>NaN</td>\n",
              "    </tr>\n",
              "    <tr>\n",
              "      <th>3</th>\n",
              "      <td>715523105001</td>\n",
              "      <td>AISHWARYA  C</td>\n",
              "      <td>O</td>\n",
              "      <td>A</td>\n",
              "      <td>O</td>\n",
              "      <td>A+</td>\n",
              "      <td>O</td>\n",
              "      <td>O</td>\n",
              "      <td>A</td>\n",
              "      <td>A+</td>\n",
              "      <td>A+</td>\n",
              "    </tr>\n",
              "    <tr>\n",
              "      <th>4</th>\n",
              "      <td>715523105002</td>\n",
              "      <td>ALLWIN  R</td>\n",
              "      <td>O</td>\n",
              "      <td>A</td>\n",
              "      <td>B+</td>\n",
              "      <td>B+</td>\n",
              "      <td>O</td>\n",
              "      <td>O</td>\n",
              "      <td>A</td>\n",
              "      <td>A</td>\n",
              "      <td>A+</td>\n",
              "    </tr>\n",
              "    <tr>\n",
              "      <th>...</th>\n",
              "      <td>...</td>\n",
              "      <td>...</td>\n",
              "      <td>...</td>\n",
              "      <td>...</td>\n",
              "      <td>...</td>\n",
              "      <td>...</td>\n",
              "      <td>...</td>\n",
              "      <td>...</td>\n",
              "      <td>...</td>\n",
              "      <td>...</td>\n",
              "      <td>...</td>\n",
              "    </tr>\n",
              "    <tr>\n",
              "      <th>85</th>\n",
              "      <td>715523105054</td>\n",
              "      <td>VELMURUGAN  K</td>\n",
              "      <td>O</td>\n",
              "      <td>A</td>\n",
              "      <td>B+</td>\n",
              "      <td>O</td>\n",
              "      <td>O</td>\n",
              "      <td>O</td>\n",
              "      <td>A+</td>\n",
              "      <td>A</td>\n",
              "      <td>A+</td>\n",
              "    </tr>\n",
              "    <tr>\n",
              "      <th>86</th>\n",
              "      <td>715523105055</td>\n",
              "      <td>VETRIVEL  P A</td>\n",
              "      <td>O</td>\n",
              "      <td>A</td>\n",
              "      <td>B+</td>\n",
              "      <td>A</td>\n",
              "      <td>O</td>\n",
              "      <td>O</td>\n",
              "      <td>A</td>\n",
              "      <td>A</td>\n",
              "      <td>B+</td>\n",
              "    </tr>\n",
              "    <tr>\n",
              "      <th>87</th>\n",
              "      <td>715523105056</td>\n",
              "      <td>VISHNU PRIYA  R</td>\n",
              "      <td>O</td>\n",
              "      <td>A</td>\n",
              "      <td>B</td>\n",
              "      <td>A+</td>\n",
              "      <td>O</td>\n",
              "      <td>O</td>\n",
              "      <td>A+</td>\n",
              "      <td>A+</td>\n",
              "      <td>A+</td>\n",
              "    </tr>\n",
              "    <tr>\n",
              "      <th>88</th>\n",
              "      <td>715523105057</td>\n",
              "      <td>YASHWANTH DARAN  D</td>\n",
              "      <td>O</td>\n",
              "      <td>A</td>\n",
              "      <td>B+</td>\n",
              "      <td>B+</td>\n",
              "      <td>O</td>\n",
              "      <td>O</td>\n",
              "      <td>A</td>\n",
              "      <td>O</td>\n",
              "      <td>O</td>\n",
              "    </tr>\n",
              "    <tr>\n",
              "      <th>89</th>\n",
              "      <td>715523105058</td>\n",
              "      <td>YOKESH KUMAR  B</td>\n",
              "      <td>O</td>\n",
              "      <td>A</td>\n",
              "      <td>B+</td>\n",
              "      <td>B+</td>\n",
              "      <td>O</td>\n",
              "      <td>O</td>\n",
              "      <td>B+</td>\n",
              "      <td>A+</td>\n",
              "      <td>A+</td>\n",
              "    </tr>\n",
              "  </tbody>\n",
              "</table>\n",
              "<p>90 rows × 11 columns</p>\n",
              "</div>\n",
              "    <div class=\"colab-df-buttons\">\n",
              "\n",
              "  <div class=\"colab-df-container\">\n",
              "    <button class=\"colab-df-convert\" onclick=\"convertToInteractive('df-0c1fefb3-387b-4c22-b43a-1066f335518f')\"\n",
              "            title=\"Convert this dataframe to an interactive table.\"\n",
              "            style=\"display:none;\">\n",
              "\n",
              "  <svg xmlns=\"http://www.w3.org/2000/svg\" height=\"24px\" viewBox=\"0 -960 960 960\">\n",
              "    <path d=\"M120-120v-720h720v720H120Zm60-500h600v-160H180v160Zm220 220h160v-160H400v160Zm0 220h160v-160H400v160ZM180-400h160v-160H180v160Zm440 0h160v-160H620v160ZM180-180h160v-160H180v160Zm440 0h160v-160H620v160Z\"/>\n",
              "  </svg>\n",
              "    </button>\n",
              "\n",
              "  <style>\n",
              "    .colab-df-container {\n",
              "      display:flex;\n",
              "      gap: 12px;\n",
              "    }\n",
              "\n",
              "    .colab-df-convert {\n",
              "      background-color: #E8F0FE;\n",
              "      border: none;\n",
              "      border-radius: 50%;\n",
              "      cursor: pointer;\n",
              "      display: none;\n",
              "      fill: #1967D2;\n",
              "      height: 32px;\n",
              "      padding: 0 0 0 0;\n",
              "      width: 32px;\n",
              "    }\n",
              "\n",
              "    .colab-df-convert:hover {\n",
              "      background-color: #E2EBFA;\n",
              "      box-shadow: 0px 1px 2px rgba(60, 64, 67, 0.3), 0px 1px 3px 1px rgba(60, 64, 67, 0.15);\n",
              "      fill: #174EA6;\n",
              "    }\n",
              "\n",
              "    .colab-df-buttons div {\n",
              "      margin-bottom: 4px;\n",
              "    }\n",
              "\n",
              "    [theme=dark] .colab-df-convert {\n",
              "      background-color: #3B4455;\n",
              "      fill: #D2E3FC;\n",
              "    }\n",
              "\n",
              "    [theme=dark] .colab-df-convert:hover {\n",
              "      background-color: #434B5C;\n",
              "      box-shadow: 0px 1px 3px 1px rgba(0, 0, 0, 0.15);\n",
              "      filter: drop-shadow(0px 1px 2px rgba(0, 0, 0, 0.3));\n",
              "      fill: #FFFFFF;\n",
              "    }\n",
              "  </style>\n",
              "\n",
              "    <script>\n",
              "      const buttonEl =\n",
              "        document.querySelector('#df-0c1fefb3-387b-4c22-b43a-1066f335518f button.colab-df-convert');\n",
              "      buttonEl.style.display =\n",
              "        google.colab.kernel.accessAllowed ? 'block' : 'none';\n",
              "\n",
              "      async function convertToInteractive(key) {\n",
              "        const element = document.querySelector('#df-0c1fefb3-387b-4c22-b43a-1066f335518f');\n",
              "        const dataTable =\n",
              "          await google.colab.kernel.invokeFunction('convertToInteractive',\n",
              "                                                    [key], {});\n",
              "        if (!dataTable) return;\n",
              "\n",
              "        const docLinkHtml = 'Like what you see? Visit the ' +\n",
              "          '<a target=\"_blank\" href=https://colab.research.google.com/notebooks/data_table.ipynb>data table notebook</a>'\n",
              "          + ' to learn more about interactive tables.';\n",
              "        element.innerHTML = '';\n",
              "        dataTable['output_type'] = 'display_data';\n",
              "        await google.colab.output.renderOutput(dataTable, element);\n",
              "        const docLink = document.createElement('div');\n",
              "        docLink.innerHTML = docLinkHtml;\n",
              "        element.appendChild(docLink);\n",
              "      }\n",
              "    </script>\n",
              "  </div>\n",
              "\n",
              "\n",
              "<div id=\"df-fe2587a6-285b-4312-90e9-54c5e2db8eb6\">\n",
              "  <button class=\"colab-df-quickchart\" onclick=\"quickchart('df-fe2587a6-285b-4312-90e9-54c5e2db8eb6')\"\n",
              "            title=\"Suggest charts\"\n",
              "            style=\"display:none;\">\n",
              "\n",
              "<svg xmlns=\"http://www.w3.org/2000/svg\" height=\"24px\"viewBox=\"0 0 24 24\"\n",
              "     width=\"24px\">\n",
              "    <g>\n",
              "        <path d=\"M19 3H5c-1.1 0-2 .9-2 2v14c0 1.1.9 2 2 2h14c1.1 0 2-.9 2-2V5c0-1.1-.9-2-2-2zM9 17H7v-7h2v7zm4 0h-2V7h2v10zm4 0h-2v-4h2v4z\"/>\n",
              "    </g>\n",
              "</svg>\n",
              "  </button>\n",
              "\n",
              "<style>\n",
              "  .colab-df-quickchart {\n",
              "      --bg-color: #E8F0FE;\n",
              "      --fill-color: #1967D2;\n",
              "      --hover-bg-color: #E2EBFA;\n",
              "      --hover-fill-color: #174EA6;\n",
              "      --disabled-fill-color: #AAA;\n",
              "      --disabled-bg-color: #DDD;\n",
              "  }\n",
              "\n",
              "  [theme=dark] .colab-df-quickchart {\n",
              "      --bg-color: #3B4455;\n",
              "      --fill-color: #D2E3FC;\n",
              "      --hover-bg-color: #434B5C;\n",
              "      --hover-fill-color: #FFFFFF;\n",
              "      --disabled-bg-color: #3B4455;\n",
              "      --disabled-fill-color: #666;\n",
              "  }\n",
              "\n",
              "  .colab-df-quickchart {\n",
              "    background-color: var(--bg-color);\n",
              "    border: none;\n",
              "    border-radius: 50%;\n",
              "    cursor: pointer;\n",
              "    display: none;\n",
              "    fill: var(--fill-color);\n",
              "    height: 32px;\n",
              "    padding: 0;\n",
              "    width: 32px;\n",
              "  }\n",
              "\n",
              "  .colab-df-quickchart:hover {\n",
              "    background-color: var(--hover-bg-color);\n",
              "    box-shadow: 0 1px 2px rgba(60, 64, 67, 0.3), 0 1px 3px 1px rgba(60, 64, 67, 0.15);\n",
              "    fill: var(--button-hover-fill-color);\n",
              "  }\n",
              "\n",
              "  .colab-df-quickchart-complete:disabled,\n",
              "  .colab-df-quickchart-complete:disabled:hover {\n",
              "    background-color: var(--disabled-bg-color);\n",
              "    fill: var(--disabled-fill-color);\n",
              "    box-shadow: none;\n",
              "  }\n",
              "\n",
              "  .colab-df-spinner {\n",
              "    border: 2px solid var(--fill-color);\n",
              "    border-color: transparent;\n",
              "    border-bottom-color: var(--fill-color);\n",
              "    animation:\n",
              "      spin 1s steps(1) infinite;\n",
              "  }\n",
              "\n",
              "  @keyframes spin {\n",
              "    0% {\n",
              "      border-color: transparent;\n",
              "      border-bottom-color: var(--fill-color);\n",
              "      border-left-color: var(--fill-color);\n",
              "    }\n",
              "    20% {\n",
              "      border-color: transparent;\n",
              "      border-left-color: var(--fill-color);\n",
              "      border-top-color: var(--fill-color);\n",
              "    }\n",
              "    30% {\n",
              "      border-color: transparent;\n",
              "      border-left-color: var(--fill-color);\n",
              "      border-top-color: var(--fill-color);\n",
              "      border-right-color: var(--fill-color);\n",
              "    }\n",
              "    40% {\n",
              "      border-color: transparent;\n",
              "      border-right-color: var(--fill-color);\n",
              "      border-top-color: var(--fill-color);\n",
              "    }\n",
              "    60% {\n",
              "      border-color: transparent;\n",
              "      border-right-color: var(--fill-color);\n",
              "    }\n",
              "    80% {\n",
              "      border-color: transparent;\n",
              "      border-right-color: var(--fill-color);\n",
              "      border-bottom-color: var(--fill-color);\n",
              "    }\n",
              "    90% {\n",
              "      border-color: transparent;\n",
              "      border-bottom-color: var(--fill-color);\n",
              "    }\n",
              "  }\n",
              "</style>\n",
              "\n",
              "  <script>\n",
              "    async function quickchart(key) {\n",
              "      const quickchartButtonEl =\n",
              "        document.querySelector('#' + key + ' button');\n",
              "      quickchartButtonEl.disabled = true;  // To prevent multiple clicks.\n",
              "      quickchartButtonEl.classList.add('colab-df-spinner');\n",
              "      try {\n",
              "        const charts = await google.colab.kernel.invokeFunction(\n",
              "            'suggestCharts', [key], {});\n",
              "      } catch (error) {\n",
              "        console.error('Error during call to suggestCharts:', error);\n",
              "      }\n",
              "      quickchartButtonEl.classList.remove('colab-df-spinner');\n",
              "      quickchartButtonEl.classList.add('colab-df-quickchart-complete');\n",
              "    }\n",
              "    (() => {\n",
              "      let quickchartButtonEl =\n",
              "        document.querySelector('#df-fe2587a6-285b-4312-90e9-54c5e2db8eb6 button');\n",
              "      quickchartButtonEl.style.display =\n",
              "        google.colab.kernel.accessAllowed ? 'block' : 'none';\n",
              "    })();\n",
              "  </script>\n",
              "</div>\n",
              "\n",
              "  <div id=\"id_c5d21491-3c72-4dbf-b13d-6d3fe0f8b8fe\">\n",
              "    <style>\n",
              "      .colab-df-generate {\n",
              "        background-color: #E8F0FE;\n",
              "        border: none;\n",
              "        border-radius: 50%;\n",
              "        cursor: pointer;\n",
              "        display: none;\n",
              "        fill: #1967D2;\n",
              "        height: 32px;\n",
              "        padding: 0 0 0 0;\n",
              "        width: 32px;\n",
              "      }\n",
              "\n",
              "      .colab-df-generate:hover {\n",
              "        background-color: #E2EBFA;\n",
              "        box-shadow: 0px 1px 2px rgba(60, 64, 67, 0.3), 0px 1px 3px 1px rgba(60, 64, 67, 0.15);\n",
              "        fill: #174EA6;\n",
              "      }\n",
              "\n",
              "      [theme=dark] .colab-df-generate {\n",
              "        background-color: #3B4455;\n",
              "        fill: #D2E3FC;\n",
              "      }\n",
              "\n",
              "      [theme=dark] .colab-df-generate:hover {\n",
              "        background-color: #434B5C;\n",
              "        box-shadow: 0px 1px 3px 1px rgba(0, 0, 0, 0.15);\n",
              "        filter: drop-shadow(0px 1px 2px rgba(0, 0, 0, 0.3));\n",
              "        fill: #FFFFFF;\n",
              "      }\n",
              "    </style>\n",
              "    <button class=\"colab-df-generate\" onclick=\"generateWithVariable('data')\"\n",
              "            title=\"Generate code using this dataframe.\"\n",
              "            style=\"display:none;\">\n",
              "\n",
              "  <svg xmlns=\"http://www.w3.org/2000/svg\" height=\"24px\"viewBox=\"0 0 24 24\"\n",
              "       width=\"24px\">\n",
              "    <path d=\"M7,19H8.4L18.45,9,17,7.55,7,17.6ZM5,21V16.75L18.45,3.32a2,2,0,0,1,2.83,0l1.4,1.43a1.91,1.91,0,0,1,.58,1.4,1.91,1.91,0,0,1-.58,1.4L9.25,21ZM18.45,9,17,7.55Zm-12,3A5.31,5.31,0,0,0,4.9,8.1,5.31,5.31,0,0,0,1,6.5,5.31,5.31,0,0,0,4.9,4.9,5.31,5.31,0,0,0,6.5,1,5.31,5.31,0,0,0,8.1,4.9,5.31,5.31,0,0,0,12,6.5,5.46,5.46,0,0,0,6.5,12Z\"/>\n",
              "  </svg>\n",
              "    </button>\n",
              "    <script>\n",
              "      (() => {\n",
              "      const buttonEl =\n",
              "        document.querySelector('#id_c5d21491-3c72-4dbf-b13d-6d3fe0f8b8fe button.colab-df-generate');\n",
              "      buttonEl.style.display =\n",
              "        google.colab.kernel.accessAllowed ? 'block' : 'none';\n",
              "\n",
              "      buttonEl.onclick = () => {\n",
              "        google.colab.notebook.generateWithVariable('data');\n",
              "      }\n",
              "      })();\n",
              "    </script>\n",
              "  </div>\n",
              "\n",
              "    </div>\n",
              "  </div>\n"
            ],
            "application/vnd.google.colaboratory.intrinsic+json": {
              "type": "dataframe",
              "variable_name": "data",
              "summary": "{\n  \"name\": \"data\",\n  \"rows\": 90,\n  \"fields\": [\n    {\n      \"column\": \"Unnamed: 0\",\n      \"properties\": {\n        \"dtype\": \"string\",\n        \"num_unique_values\": 62,\n        \"samples\": [\n          \"715523105047\",\n          \"715523105053\",\n          \"Reg. Number\"\n        ],\n        \"semantic_type\": \"\",\n        \"description\": \"\"\n      }\n    },\n    {\n      \"column\": \"Subject Code - >\",\n      \"properties\": {\n        \"dtype\": \"string\",\n        \"num_unique_values\": 61,\n        \"samples\": [\n          \"Stud. Name\",\n          \"ANANTHAKUMAR  M S\",\n          \"SAMARIYA RAYAR  S\"\n        ],\n        \"semantic_type\": \"\",\n        \"description\": \"\"\n      }\n    },\n    {\n      \"column\": \"BS3171\",\n      \"properties\": {\n        \"dtype\": \"category\",\n        \"num_unique_values\": 2,\n        \"samples\": [\n          \"O\",\n          \"Grade\"\n        ],\n        \"semantic_type\": \"\",\n        \"description\": \"\"\n      }\n    },\n    {\n      \"column\": \"CY3151\",\n      \"properties\": {\n        \"dtype\": \"category\",\n        \"num_unique_values\": 5,\n        \"samples\": [\n          \"A\",\n          \"B+\"\n        ],\n        \"semantic_type\": \"\",\n        \"description\": \"\"\n      }\n    },\n    {\n      \"column\": \"GE3151\",\n      \"properties\": {\n        \"dtype\": \"category\",\n        \"num_unique_values\": 8,\n        \"samples\": [\n          \"O\",\n          \"A+\"\n        ],\n        \"semantic_type\": \"\",\n        \"description\": \"\"\n      }\n    },\n    {\n      \"column\": \"GE3152\",\n      \"properties\": {\n        \"dtype\": \"category\",\n        \"num_unique_values\": 6,\n        \"samples\": [\n          \"Grade\",\n          \"A+\"\n        ],\n        \"semantic_type\": \"\",\n        \"description\": \"\"\n      }\n    },\n    {\n      \"column\": \"GE3171\",\n      \"properties\": {\n        \"dtype\": \"category\",\n        \"num_unique_values\": 2,\n        \"samples\": [\n          \"O\",\n          \"Grade\"\n        ],\n        \"semantic_type\": \"\",\n        \"description\": \"\"\n      }\n    },\n    {\n      \"column\": \"GE3172\",\n      \"properties\": {\n        \"dtype\": \"category\",\n        \"num_unique_values\": 2,\n        \"samples\": [\n          \"O\",\n          \"Grade\"\n        ],\n        \"semantic_type\": \"\",\n        \"description\": \"\"\n      }\n    },\n    {\n      \"column\": \"HS3152\",\n      \"properties\": {\n        \"dtype\": \"category\",\n        \"num_unique_values\": 4,\n        \"samples\": [\n          \"A\",\n          \"A+\"\n        ],\n        \"semantic_type\": \"\",\n        \"description\": \"\"\n      }\n    },\n    {\n      \"column\": \"MA3151\",\n      \"properties\": {\n        \"dtype\": \"category\",\n        \"num_unique_values\": 8,\n        \"samples\": [\n          \"B+\",\n          \"O\"\n        ],\n        \"semantic_type\": \"\",\n        \"description\": \"\"\n      }\n    },\n    {\n      \"column\": \"PH3151\",\n      \"properties\": {\n        \"dtype\": \"category\",\n        \"num_unique_values\": 6,\n        \"samples\": [\n          \"Grade\",\n          \"A+\"\n        ],\n        \"semantic_type\": \"\",\n        \"description\": \"\"\n      }\n    }\n  ]\n}"
            }
          },
          "metadata": {},
          "execution_count": 32
        }
      ]
    },
    {
      "cell_type": "code",
      "source": [
        "with open(csv_file, 'r', newline='') as csvfile:\n",
        "    reader = csv.DictReader(csvfile)\n",
        "    print(reader.fieldnames)"
      ],
      "metadata": {
        "colab": {
          "base_uri": "https://localhost:8080/"
        },
        "id": "2hDdcGqDHXTJ",
        "outputId": "b5683375-54f8-4e13-ef85-df13afdc4c8f"
      },
      "execution_count": 38,
      "outputs": [
        {
          "output_type": "stream",
          "name": "stdout",
          "text": [
            "['', 'Subject Code - >', 'BS3171', 'CY3151', 'GE3151', 'GE3152', 'GE3171', 'GE3172', 'HS3152', 'MA3151', 'PH3151']\n"
          ]
        }
      ]
    },
    {
      "cell_type": "code",
      "source": [
        "import csv\n",
        "\n",
        "def count_grades(csv_file, column_name):\n",
        "    # Dictionary to store the counts of each grade\n",
        "    grade_counts = {\n",
        "        'O': 0,\n",
        "        'A+': 0,\n",
        "        'A': 0,\n",
        "        'B': 0,\n",
        "        'B+': 0,\n",
        "        'C': 0,\n",
        "        'E': 0,\n",
        "        'U': 0\n",
        "    }\n",
        "\n",
        "    # Open the CSV file\n",
        "    with open(csv_file, 'r', newline='') as csvfile:\n",
        "        reader = csv.DictReader(csvfile)\n",
        "\n",
        "        # Iterate over each row\n",
        "        for row in reader:\n",
        "            # Extract the grade from the specified column\n",
        "            grade = row[column_name]\n",
        "\n",
        "            # Increment the count for the corresponding grade\n",
        "            if grade in grade_counts:\n",
        "                grade_counts[grade] += 1\n",
        "\n",
        "    return grade_counts\n",
        "\n",
        "# Example usage\n",
        "csv_file = '/content/sample_data/NOV DEC2023 EEE RESULTS.csv'\n",
        "column_name = 'MA3151'\n",
        "\n",
        "grade_counts = count_grades(csv_file, column_name)\n",
        "\n",
        "# Print the counts\n",
        "for grade, count in grade_counts.items():\n",
        "    print(f'Grade: {grade}, Count: {count}')\n"
      ],
      "metadata": {
        "colab": {
          "base_uri": "https://localhost:8080/"
        },
        "id": "MPCYBQmjgrP_",
        "outputId": "3b66c58a-54df-4e3c-dcda-e7966b50aeb3"
      },
      "execution_count": 35,
      "outputs": [
        {
          "output_type": "stream",
          "name": "stdout",
          "text": [
            "Grade: O, Count: 22\n",
            "Grade: A+, Count: 28\n",
            "Grade: A, Count: 17\n",
            "Grade: B, Count: 3\n",
            "Grade: B+, Count: 12\n",
            "Grade: C, Count: 2\n",
            "Grade: E, Count: 0\n",
            "Grade: U, Count: 1\n"
          ]
        }
      ]
    },
    {
      "cell_type": "code",
      "source": [
        "import csv\n",
        "\n",
        "def count_grades(csv_file, column_name):\n",
        "    # Dictionary to store the counts of each grade\n",
        "    grade_counts = {\n",
        "        'O': 0,\n",
        "        'A+': 0,\n",
        "        'A': 0,\n",
        "        'B': 0,\n",
        "        'B+': 0,\n",
        "        'C': 0,\n",
        "        'E': 0,\n",
        "        'U': 0\n",
        "    }\n",
        "\n",
        "    # Open the CSV file\n",
        "    with open(csv_file, 'r', newline='') as csvfile:\n",
        "        reader = csv.DictReader(csvfile)\n",
        "\n",
        "        # Iterate over each row\n",
        "        for row in reader:\n",
        "            # Extract the grade from the specified column\n",
        "            grade = row[column_name]\n",
        "\n",
        "            # Increment the count for the corresponding grade\n",
        "            if grade in grade_counts:\n",
        "                grade_counts[grade] += 1\n",
        "\n",
        "    return grade_counts\n",
        "\n",
        "def save_grade_counts(grade_counts, output_file):\n",
        "    # Open the output CSV file for writing\n",
        "    with open(output_file, 'w', newline='') as csvfile:\n",
        "        writer = csv.writer(csvfile)\n",
        "\n",
        "        # Write the header\n",
        "        writer.writerow(['Grade', 'Count'])\n",
        "\n",
        "        # Write the grade counts\n",
        "        for grade, count in grade_counts.items():\n",
        "            writer.writerow([grade, count])\n",
        "\n",
        "# Example usage\n",
        "csv_file = '/content/sample_data/NOV DEC2023 EEE RESULTS.csv'\n",
        "column_name = 'MA3151'\n",
        "\n",
        "grade_counts = count_grades(csv_file, column_name)\n",
        "\n",
        "# Specify the output file path\n",
        "output_file = 'grade_counts.csv'\n",
        "\n",
        "# Save the grade counts to the output CSV file\n",
        "save_grade_counts(grade_counts, output_file)\n"
      ],
      "metadata": {
        "id": "o9wrlH85jsXq"
      },
      "execution_count": 37,
      "outputs": []
    }
  ]
}