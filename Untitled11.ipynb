{
  "nbformat": 4,
  "nbformat_minor": 0,
  "metadata": {
    "colab": {
      "provenance": [],
      "authorship_tag": "ABX9TyONPNBQbYs6K/9bBkA5bcMP",
      "include_colab_link": true
    },
    "kernelspec": {
      "name": "python3",
      "display_name": "Python 3"
    },
    "language_info": {
      "name": "python"
    }
  },
  "cells": [
    {
      "cell_type": "markdown",
      "metadata": {
        "id": "view-in-github",
        "colab_type": "text"
      },
      "source": [
        "<a href=\"https://colab.research.google.com/github/yehaa2004/pdf-to-csv/blob/main/Untitled11.ipynb\" target=\"_parent\"><img src=\"https://colab.research.google.com/assets/colab-badge.svg\" alt=\"Open In Colab\"/></a>"
      ]
    },
    {
      "cell_type": "code",
      "execution_count": 1,
      "metadata": {
        "colab": {
          "base_uri": "https://localhost:8080/"
        },
        "id": "anEnrHCKRxPv",
        "outputId": "6f2cb756-d40c-40da-a860-8f9c5014936d"
      },
      "outputs": [
        {
          "output_type": "stream",
          "name": "stdout",
          "text": [
            "Collecting tabula-py\n",
            "  Downloading tabula_py-2.9.0-py3-none-any.whl (12.0 MB)\n",
            "\u001b[2K     \u001b[90m━━━━━━━━━━━━━━━━━━━━━━━━━━━━━━━━━━━━━━━━\u001b[0m \u001b[32m12.0/12.0 MB\u001b[0m \u001b[31m29.8 MB/s\u001b[0m eta \u001b[36m0:00:00\u001b[0m\n",
            "\u001b[?25hRequirement already satisfied: pandas>=0.25.3 in /usr/local/lib/python3.10/dist-packages (from tabula-py) (2.0.3)\n",
            "Requirement already satisfied: numpy in /usr/local/lib/python3.10/dist-packages (from tabula-py) (1.25.2)\n",
            "Requirement already satisfied: distro in /usr/lib/python3/dist-packages (from tabula-py) (1.7.0)\n",
            "Requirement already satisfied: python-dateutil>=2.8.2 in /usr/local/lib/python3.10/dist-packages (from pandas>=0.25.3->tabula-py) (2.8.2)\n",
            "Requirement already satisfied: pytz>=2020.1 in /usr/local/lib/python3.10/dist-packages (from pandas>=0.25.3->tabula-py) (2023.4)\n",
            "Requirement already satisfied: tzdata>=2022.1 in /usr/local/lib/python3.10/dist-packages (from pandas>=0.25.3->tabula-py) (2024.1)\n",
            "Requirement already satisfied: six>=1.5 in /usr/local/lib/python3.10/dist-packages (from python-dateutil>=2.8.2->pandas>=0.25.3->tabula-py) (1.16.0)\n",
            "Installing collected packages: tabula-py\n",
            "Successfully installed tabula-py-2.9.0\n"
          ]
        }
      ],
      "source": [
        "!pip install tabula-py"
      ]
    },
    {
      "cell_type": "code",
      "source": [
        "import tabula"
      ],
      "metadata": {
        "id": "idy_IwT9R-4Z"
      },
      "execution_count": 2,
      "outputs": []
    },
    {
      "cell_type": "code",
      "source": [
        "import csv"
      ],
      "metadata": {
        "id": "3txaHZtHTQAL"
      },
      "execution_count": 3,
      "outputs": []
    },
    {
      "cell_type": "code",
      "source": [
        "file = \"/content/sample_data/NOV DEC2023 ECE RESULTS.pdf\""
      ],
      "metadata": {
        "id": "ptvSaZfVSCFo"
      },
      "execution_count": 14,
      "outputs": []
    },
    {
      "cell_type": "code",
      "source": [
        "df_1 = tabula.read_pdf('/content/sample_data/NOV DEC2023 ECE RESULTS.pdf')"
      ],
      "metadata": {
        "colab": {
          "base_uri": "https://localhost:8080/"
        },
        "id": "VAdpe3dGShQ-",
        "outputId": "089ef192-a027-4717-c6d7-265addcd230e"
      },
      "execution_count": 15,
      "outputs": [
        {
          "output_type": "stream",
          "name": "stderr",
          "text": [
            "WARNING:tabula.util:'pages' argument isn't specified.Will extract only from page 1 by default.\n",
            "WARNING:tabula.backend:Got stderr: Apr 24, 2024 4:18:31 AM org.apache.pdfbox.pdmodel.font.PDType1Font <init>\n",
            "WARNING: Using fallback font LiberationSans for base font Symbol\n",
            "Apr 24, 2024 4:18:31 AM org.apache.pdfbox.pdmodel.font.PDType1Font <init>\n",
            "WARNING: Using fallback font LiberationSans for base font ZapfDingbats\n",
            "\n"
          ]
        }
      ]
    },
    {
      "cell_type": "code",
      "source": [
        "print(df_1)"
      ],
      "metadata": {
        "colab": {
          "base_uri": "https://localhost:8080/"
        },
        "id": "4q_JBchKSvqD",
        "outputId": "32ebb242-610a-4cdf-c914-b204fe9bbc29"
      },
      "execution_count": 16,
      "outputs": [
        {
          "output_type": "stream",
          "name": "stdout",
          "text": [
            "[      Unnamed: 0        Subject Code - > BS3171 CY3151 GE3151 GE3152 GE3171  \\\n",
            "0    Reg. Number              Stud. Name  Grade  Grade  Grade  Grade  Grade   \n",
            "1   715523106001           ABHIGEETHA  K      O      O      A      O      O   \n",
            "2   715523106002                  ABI  R    NaN    NaN    NaN    NaN    NaN   \n",
            "3   715523106003              ABIRAMI  M      O      A      A     A+      O   \n",
            "4   715523106004  ABIRAMI NACHAMMAI  K S      O     A+     B+     A+      O   \n",
            "5   715523106005              ADHITHI  B      O     A+      A      A      O   \n",
            "6   715523106006              ADVAITH  K      O      A      C      A      O   \n",
            "7   715523106007            AISHWARYA  P      O     A+     A+     A+      O   \n",
            "8   715523106008                AKASH  B      O     A+      A     A+      O   \n",
            "9   715523106009                AKASH  N      O      U     B+     B+      O   \n",
            "10  715523106010                AKASH  R      O     A+     B+     B+      O   \n",
            "11  715523106011              AKSHETA  S      O      A     B+     A+      O   \n",
            "12  715523106012             AKSHITHA  R      O      A     B+     A+      O   \n",
            "13  715523106013           AMRITHAA  S R      O      O      A      O      O   \n",
            "14  715523106014              ARAVIND  C      O      A     B+     B+     A+   \n",
            "15  715523106015           ARAVINTHAN  T      O      A     B+     B+      O   \n",
            "16  715523106016        ASHAVIKASHINI  K      O      A     B+      O      O   \n",
            "17  715523106017               ASMITA  J      O     A+     A+      A      O   \n",
            "18  715523106018             AYYAPPAN  K      O     A+     B+     B+      O   \n",
            "19  715523106019           BAVISHYAA  SP      O      O      O     A+      O   \n",
            "20  715523106020           CHANDREESH  K      O     B+     B+     B+      O   \n",
            "21  715523106021              DEEKSHA  S      O     A+     A+     A+      O   \n",
            "22  715523106022             DEVIKA NAIR      O     A+     B+     A+      O   \n",
            "23  715523106023          DHANUSHIYAN  R      O     A+     B+     B+      O   \n",
            "24  715523106024               DHANYA  S      O      A     A+      B      O   \n",
            "25  715523106025            DHARANIKA  V      O     A+      A     A+      O   \n",
            "26  715523106026          DHARANI SRI  P      O     A+     A+      O      O   \n",
            "27  715523106027          DHARMARAJAN  V      O      A     B+     A+      O   \n",
            "28  715523106028           DILLIMARAN  K      O     A+     A+     A+      O   \n",
            "29  715523106029        DIVYA PALANISAMY      O      O      A      A      O   \n",
            "30  715523106030        DOUSIK MANOKARAN      O     A+      A     B+      O   \n",
            "31  715523106031         ENOCH JEBAKUMAR      O     A+      A     A+      O   \n",
            "32  715523106032             GAURAV  V R      O      O      A      A      O   \n",
            "33  715523106033            GOKULNATH  S      O      A     B+      A     A+   \n",
            "34  715523106034          GOPISANTH  S K      O     A+     B+     A+     A+   \n",
            "35  715523106035              GOWSIKA  G      O      A      A      A      O   \n",
            "\n",
            "   GE3172 HS3152 MA3151 PH3151  \n",
            "0   Grade  Grade  Grade  Grade  \n",
            "1       O      A      O      O  \n",
            "2     NaN    NaN    NaN    NaN  \n",
            "3       O     A+      O     A+  \n",
            "4       O     A+      O     A+  \n",
            "5       O     A+      O      A  \n",
            "6       O     B+      A     B+  \n",
            "7       O      A      O     A+  \n",
            "8       O     B+      O      A  \n",
            "9       O      A     A+     B+  \n",
            "10      O      A      O      A  \n",
            "11      O      A      A     A+  \n",
            "12      O      A     A+     A+  \n",
            "13      O     B+      O      O  \n",
            "14      O     B+      O      A  \n",
            "15      O     B+     A+     B+  \n",
            "16      O     A+      A      O  \n",
            "17      O     B+      O     A+  \n",
            "18      O     B+     B+      C  \n",
            "19      O     A+      O      O  \n",
            "20      O     B+      B      C  \n",
            "21      O     B+     A+     B+  \n",
            "22      O      A     B+     B+  \n",
            "23      O     B+     B+     A+  \n",
            "24      O      A     A+     A+  \n",
            "25      O      A      O      O  \n",
            "26      O     B+     A+     B+  \n",
            "27      O      A     A+      A  \n",
            "28      O      A      O     A+  \n",
            "29      O      A      O     A+  \n",
            "30      O      A      O      O  \n",
            "31      O      A      O      O  \n",
            "32      O      A      O      O  \n",
            "33      O     B+      A     A+  \n",
            "34      O      A     B+     A+  \n",
            "35      O     A+      O     A+  ]\n"
          ]
        }
      ]
    },
    {
      "cell_type": "code",
      "source": [
        "!pip install tabula-py"
      ],
      "metadata": {
        "id": "Lekad77o-aPT",
        "outputId": "91461248-a8d2-4a40-9098-8afbb46dfb3c",
        "colab": {
          "base_uri": "https://localhost:8080/"
        }
      },
      "execution_count": 17,
      "outputs": [
        {
          "output_type": "stream",
          "name": "stdout",
          "text": [
            "Requirement already satisfied: tabula-py in /usr/local/lib/python3.10/dist-packages (2.9.0)\n",
            "Requirement already satisfied: pandas>=0.25.3 in /usr/local/lib/python3.10/dist-packages (from tabula-py) (2.0.3)\n",
            "Requirement already satisfied: numpy in /usr/local/lib/python3.10/dist-packages (from tabula-py) (1.25.2)\n",
            "Requirement already satisfied: distro in /usr/lib/python3/dist-packages (from tabula-py) (1.7.0)\n",
            "Requirement already satisfied: python-dateutil>=2.8.2 in /usr/local/lib/python3.10/dist-packages (from pandas>=0.25.3->tabula-py) (2.8.2)\n",
            "Requirement already satisfied: pytz>=2020.1 in /usr/local/lib/python3.10/dist-packages (from pandas>=0.25.3->tabula-py) (2023.4)\n",
            "Requirement already satisfied: tzdata>=2022.1 in /usr/local/lib/python3.10/dist-packages (from pandas>=0.25.3->tabula-py) (2024.1)\n",
            "Requirement already satisfied: six>=1.5 in /usr/local/lib/python3.10/dist-packages (from python-dateutil>=2.8.2->pandas>=0.25.3->tabula-py) (1.16.0)\n"
          ]
        }
      ]
    },
    {
      "cell_type": "code",
      "source": [
        "import tabula"
      ],
      "metadata": {
        "id": "KigccQBF-dD8"
      },
      "execution_count": 18,
      "outputs": []
    },
    {
      "cell_type": "code",
      "source": [
        "file = \"/content/sample_data/NOV DEC2023 ECE RESULTS.pdf\""
      ],
      "metadata": {
        "id": "yupzjgLm-d50"
      },
      "execution_count": 19,
      "outputs": []
    },
    {
      "cell_type": "code",
      "source": [
        "output = tabula.convert_into(file, \"/content/sample_data/NOV DEC2023 ECE RESULTS.csv\", output_format=\"csv\", pages=[1, 2])"
      ],
      "metadata": {
        "colab": {
          "base_uri": "https://localhost:8080/"
        },
        "id": "-FzCCFMlS3r2",
        "outputId": "80ff7bc8-2838-4d60-ced1-b5e6c8d56085"
      },
      "execution_count": 20,
      "outputs": [
        {
          "output_type": "stream",
          "name": "stderr",
          "text": [
            "WARNING:tabula.backend:Got stderr: Apr 24, 2024 4:19:30 AM org.apache.pdfbox.pdmodel.font.PDType1Font <init>\n",
            "WARNING: Using fallback font LiberationSans for base font Symbol\n",
            "Apr 24, 2024 4:19:30 AM org.apache.pdfbox.pdmodel.font.PDType1Font <init>\n",
            "WARNING: Using fallback font LiberationSans for base font ZapfDingbats\n",
            "\n"
          ]
        }
      ]
    },
    {
      "cell_type": "code",
      "source": [
        "print(output)"
      ],
      "metadata": {
        "colab": {
          "base_uri": "https://localhost:8080/"
        },
        "id": "uK8z7getS-T-",
        "outputId": "a8cf92bd-dec3-4916-ac94-12bd78392405"
      },
      "execution_count": 21,
      "outputs": [
        {
          "output_type": "stream",
          "name": "stdout",
          "text": [
            "None\n"
          ]
        }
      ]
    },
    {
      "cell_type": "code",
      "source": [
        "file = open('/content/sample_data/NOV DEC2023 ECE RESULTS.pdf')\n",
        "type(file)"
      ],
      "metadata": {
        "colab": {
          "base_uri": "https://localhost:8080/"
        },
        "id": "ZRbTj1axTCJ4",
        "outputId": "6110ac30-deba-461c-d442-c2c078d6d767"
      },
      "execution_count": 22,
      "outputs": [
        {
          "output_type": "execute_result",
          "data": {
            "text/plain": [
              "_io.TextIOWrapper"
            ]
          },
          "metadata": {},
          "execution_count": 22
        }
      ]
    },
    {
      "cell_type": "code",
      "source": [
        "import pandas as pd\n"
      ],
      "metadata": {
        "id": "-UuWAa6hTXpO"
      },
      "execution_count": 23,
      "outputs": []
    },
    {
      "cell_type": "code",
      "source": [
        "data= pd.read_csv(\"/content/sample_data/NOV DEC2023 ECE RESULTS.csv\")\n",
        "data"
      ],
      "metadata": {
        "colab": {
          "base_uri": "https://localhost:8080/",
          "height": 687
        },
        "id": "_eXWyQrcTRz8",
        "outputId": "d459c857-8d5c-4b64-85f4-5c92dca02691"
      },
      "execution_count": 26,
      "outputs": [
        {
          "output_type": "execute_result",
          "data": {
            "text/plain": [
              "       Unnamed: 0        Subject Code - > BS3171 CY3151 GE3151 GE3152 GE3171  \\\n",
              "0     Reg. Number              Stud. Name  Grade  Grade  Grade  Grade  Grade   \n",
              "1    715523106001           ABHIGEETHA  K      O      O      A      O      O   \n",
              "2    715523106002                  ABI  R    NaN    NaN    NaN    NaN    NaN   \n",
              "3    715523106003              ABIRAMI  M      O      A      A     A+      O   \n",
              "4    715523106004  ABIRAMI NACHAMMAI  K S      O     A+     B+     A+      O   \n",
              "..            ...                     ...    ...    ...    ...    ...    ...   \n",
              "112  715523106070          PARISHITH  A I      O     A+     B+     B+      O   \n",
              "113  715523106071         POTRI SELVAN  K      O     A+     B+     A+      O   \n",
              "114  715523106072        PRAGASAINASHY  S      O      A     A+     A+      O   \n",
              "115  715523106073     PRANEETH KRISHNA  E      O      A     B+      A      O   \n",
              "116  715523106074            PRINEEV  V S      O     A+     B+     B+      O   \n",
              "\n",
              "    GE3172 HS3152 MA3151 PH3151  \n",
              "0    Grade  Grade  Grade  Grade  \n",
              "1        O      A      O      O  \n",
              "2      NaN    NaN    NaN    NaN  \n",
              "3        O     A+      O     A+  \n",
              "4        O     A+      O     A+  \n",
              "..     ...    ...    ...    ...  \n",
              "112      O     B+      O     A+  \n",
              "113      O     B+     A+     A+  \n",
              "114      O      A     B+      A  \n",
              "115      O     A+      O     A+  \n",
              "116      O     A+     A+     B+  \n",
              "\n",
              "[117 rows x 11 columns]"
            ],
            "text/html": [
              "\n",
              "  <div id=\"df-92ed5669-3c03-4a30-957c-81498bd31916\" class=\"colab-df-container\">\n",
              "    <div>\n",
              "<style scoped>\n",
              "    .dataframe tbody tr th:only-of-type {\n",
              "        vertical-align: middle;\n",
              "    }\n",
              "\n",
              "    .dataframe tbody tr th {\n",
              "        vertical-align: top;\n",
              "    }\n",
              "\n",
              "    .dataframe thead th {\n",
              "        text-align: right;\n",
              "    }\n",
              "</style>\n",
              "<table border=\"1\" class=\"dataframe\">\n",
              "  <thead>\n",
              "    <tr style=\"text-align: right;\">\n",
              "      <th></th>\n",
              "      <th>Unnamed: 0</th>\n",
              "      <th>Subject Code - &gt;</th>\n",
              "      <th>BS3171</th>\n",
              "      <th>CY3151</th>\n",
              "      <th>GE3151</th>\n",
              "      <th>GE3152</th>\n",
              "      <th>GE3171</th>\n",
              "      <th>GE3172</th>\n",
              "      <th>HS3152</th>\n",
              "      <th>MA3151</th>\n",
              "      <th>PH3151</th>\n",
              "    </tr>\n",
              "  </thead>\n",
              "  <tbody>\n",
              "    <tr>\n",
              "      <th>0</th>\n",
              "      <td>Reg. Number</td>\n",
              "      <td>Stud. Name</td>\n",
              "      <td>Grade</td>\n",
              "      <td>Grade</td>\n",
              "      <td>Grade</td>\n",
              "      <td>Grade</td>\n",
              "      <td>Grade</td>\n",
              "      <td>Grade</td>\n",
              "      <td>Grade</td>\n",
              "      <td>Grade</td>\n",
              "      <td>Grade</td>\n",
              "    </tr>\n",
              "    <tr>\n",
              "      <th>1</th>\n",
              "      <td>715523106001</td>\n",
              "      <td>ABHIGEETHA  K</td>\n",
              "      <td>O</td>\n",
              "      <td>O</td>\n",
              "      <td>A</td>\n",
              "      <td>O</td>\n",
              "      <td>O</td>\n",
              "      <td>O</td>\n",
              "      <td>A</td>\n",
              "      <td>O</td>\n",
              "      <td>O</td>\n",
              "    </tr>\n",
              "    <tr>\n",
              "      <th>2</th>\n",
              "      <td>715523106002</td>\n",
              "      <td>ABI  R</td>\n",
              "      <td>NaN</td>\n",
              "      <td>NaN</td>\n",
              "      <td>NaN</td>\n",
              "      <td>NaN</td>\n",
              "      <td>NaN</td>\n",
              "      <td>NaN</td>\n",
              "      <td>NaN</td>\n",
              "      <td>NaN</td>\n",
              "      <td>NaN</td>\n",
              "    </tr>\n",
              "    <tr>\n",
              "      <th>3</th>\n",
              "      <td>715523106003</td>\n",
              "      <td>ABIRAMI  M</td>\n",
              "      <td>O</td>\n",
              "      <td>A</td>\n",
              "      <td>A</td>\n",
              "      <td>A+</td>\n",
              "      <td>O</td>\n",
              "      <td>O</td>\n",
              "      <td>A+</td>\n",
              "      <td>O</td>\n",
              "      <td>A+</td>\n",
              "    </tr>\n",
              "    <tr>\n",
              "      <th>4</th>\n",
              "      <td>715523106004</td>\n",
              "      <td>ABIRAMI NACHAMMAI  K S</td>\n",
              "      <td>O</td>\n",
              "      <td>A+</td>\n",
              "      <td>B+</td>\n",
              "      <td>A+</td>\n",
              "      <td>O</td>\n",
              "      <td>O</td>\n",
              "      <td>A+</td>\n",
              "      <td>O</td>\n",
              "      <td>A+</td>\n",
              "    </tr>\n",
              "    <tr>\n",
              "      <th>...</th>\n",
              "      <td>...</td>\n",
              "      <td>...</td>\n",
              "      <td>...</td>\n",
              "      <td>...</td>\n",
              "      <td>...</td>\n",
              "      <td>...</td>\n",
              "      <td>...</td>\n",
              "      <td>...</td>\n",
              "      <td>...</td>\n",
              "      <td>...</td>\n",
              "      <td>...</td>\n",
              "    </tr>\n",
              "    <tr>\n",
              "      <th>112</th>\n",
              "      <td>715523106070</td>\n",
              "      <td>PARISHITH  A I</td>\n",
              "      <td>O</td>\n",
              "      <td>A+</td>\n",
              "      <td>B+</td>\n",
              "      <td>B+</td>\n",
              "      <td>O</td>\n",
              "      <td>O</td>\n",
              "      <td>B+</td>\n",
              "      <td>O</td>\n",
              "      <td>A+</td>\n",
              "    </tr>\n",
              "    <tr>\n",
              "      <th>113</th>\n",
              "      <td>715523106071</td>\n",
              "      <td>POTRI SELVAN  K</td>\n",
              "      <td>O</td>\n",
              "      <td>A+</td>\n",
              "      <td>B+</td>\n",
              "      <td>A+</td>\n",
              "      <td>O</td>\n",
              "      <td>O</td>\n",
              "      <td>B+</td>\n",
              "      <td>A+</td>\n",
              "      <td>A+</td>\n",
              "    </tr>\n",
              "    <tr>\n",
              "      <th>114</th>\n",
              "      <td>715523106072</td>\n",
              "      <td>PRAGASAINASHY  S</td>\n",
              "      <td>O</td>\n",
              "      <td>A</td>\n",
              "      <td>A+</td>\n",
              "      <td>A+</td>\n",
              "      <td>O</td>\n",
              "      <td>O</td>\n",
              "      <td>A</td>\n",
              "      <td>B+</td>\n",
              "      <td>A</td>\n",
              "    </tr>\n",
              "    <tr>\n",
              "      <th>115</th>\n",
              "      <td>715523106073</td>\n",
              "      <td>PRANEETH KRISHNA  E</td>\n",
              "      <td>O</td>\n",
              "      <td>A</td>\n",
              "      <td>B+</td>\n",
              "      <td>A</td>\n",
              "      <td>O</td>\n",
              "      <td>O</td>\n",
              "      <td>A+</td>\n",
              "      <td>O</td>\n",
              "      <td>A+</td>\n",
              "    </tr>\n",
              "    <tr>\n",
              "      <th>116</th>\n",
              "      <td>715523106074</td>\n",
              "      <td>PRINEEV  V S</td>\n",
              "      <td>O</td>\n",
              "      <td>A+</td>\n",
              "      <td>B+</td>\n",
              "      <td>B+</td>\n",
              "      <td>O</td>\n",
              "      <td>O</td>\n",
              "      <td>A+</td>\n",
              "      <td>A+</td>\n",
              "      <td>B+</td>\n",
              "    </tr>\n",
              "  </tbody>\n",
              "</table>\n",
              "<p>117 rows × 11 columns</p>\n",
              "</div>\n",
              "    <div class=\"colab-df-buttons\">\n",
              "\n",
              "  <div class=\"colab-df-container\">\n",
              "    <button class=\"colab-df-convert\" onclick=\"convertToInteractive('df-92ed5669-3c03-4a30-957c-81498bd31916')\"\n",
              "            title=\"Convert this dataframe to an interactive table.\"\n",
              "            style=\"display:none;\">\n",
              "\n",
              "  <svg xmlns=\"http://www.w3.org/2000/svg\" height=\"24px\" viewBox=\"0 -960 960 960\">\n",
              "    <path d=\"M120-120v-720h720v720H120Zm60-500h600v-160H180v160Zm220 220h160v-160H400v160Zm0 220h160v-160H400v160ZM180-400h160v-160H180v160Zm440 0h160v-160H620v160ZM180-180h160v-160H180v160Zm440 0h160v-160H620v160Z\"/>\n",
              "  </svg>\n",
              "    </button>\n",
              "\n",
              "  <style>\n",
              "    .colab-df-container {\n",
              "      display:flex;\n",
              "      gap: 12px;\n",
              "    }\n",
              "\n",
              "    .colab-df-convert {\n",
              "      background-color: #E8F0FE;\n",
              "      border: none;\n",
              "      border-radius: 50%;\n",
              "      cursor: pointer;\n",
              "      display: none;\n",
              "      fill: #1967D2;\n",
              "      height: 32px;\n",
              "      padding: 0 0 0 0;\n",
              "      width: 32px;\n",
              "    }\n",
              "\n",
              "    .colab-df-convert:hover {\n",
              "      background-color: #E2EBFA;\n",
              "      box-shadow: 0px 1px 2px rgba(60, 64, 67, 0.3), 0px 1px 3px 1px rgba(60, 64, 67, 0.15);\n",
              "      fill: #174EA6;\n",
              "    }\n",
              "\n",
              "    .colab-df-buttons div {\n",
              "      margin-bottom: 4px;\n",
              "    }\n",
              "\n",
              "    [theme=dark] .colab-df-convert {\n",
              "      background-color: #3B4455;\n",
              "      fill: #D2E3FC;\n",
              "    }\n",
              "\n",
              "    [theme=dark] .colab-df-convert:hover {\n",
              "      background-color: #434B5C;\n",
              "      box-shadow: 0px 1px 3px 1px rgba(0, 0, 0, 0.15);\n",
              "      filter: drop-shadow(0px 1px 2px rgba(0, 0, 0, 0.3));\n",
              "      fill: #FFFFFF;\n",
              "    }\n",
              "  </style>\n",
              "\n",
              "    <script>\n",
              "      const buttonEl =\n",
              "        document.querySelector('#df-92ed5669-3c03-4a30-957c-81498bd31916 button.colab-df-convert');\n",
              "      buttonEl.style.display =\n",
              "        google.colab.kernel.accessAllowed ? 'block' : 'none';\n",
              "\n",
              "      async function convertToInteractive(key) {\n",
              "        const element = document.querySelector('#df-92ed5669-3c03-4a30-957c-81498bd31916');\n",
              "        const dataTable =\n",
              "          await google.colab.kernel.invokeFunction('convertToInteractive',\n",
              "                                                    [key], {});\n",
              "        if (!dataTable) return;\n",
              "\n",
              "        const docLinkHtml = 'Like what you see? Visit the ' +\n",
              "          '<a target=\"_blank\" href=https://colab.research.google.com/notebooks/data_table.ipynb>data table notebook</a>'\n",
              "          + ' to learn more about interactive tables.';\n",
              "        element.innerHTML = '';\n",
              "        dataTable['output_type'] = 'display_data';\n",
              "        await google.colab.output.renderOutput(dataTable, element);\n",
              "        const docLink = document.createElement('div');\n",
              "        docLink.innerHTML = docLinkHtml;\n",
              "        element.appendChild(docLink);\n",
              "      }\n",
              "    </script>\n",
              "  </div>\n",
              "\n",
              "\n",
              "<div id=\"df-866eedc7-5e81-42c4-a69e-6a4542617666\">\n",
              "  <button class=\"colab-df-quickchart\" onclick=\"quickchart('df-866eedc7-5e81-42c4-a69e-6a4542617666')\"\n",
              "            title=\"Suggest charts\"\n",
              "            style=\"display:none;\">\n",
              "\n",
              "<svg xmlns=\"http://www.w3.org/2000/svg\" height=\"24px\"viewBox=\"0 0 24 24\"\n",
              "     width=\"24px\">\n",
              "    <g>\n",
              "        <path d=\"M19 3H5c-1.1 0-2 .9-2 2v14c0 1.1.9 2 2 2h14c1.1 0 2-.9 2-2V5c0-1.1-.9-2-2-2zM9 17H7v-7h2v7zm4 0h-2V7h2v10zm4 0h-2v-4h2v4z\"/>\n",
              "    </g>\n",
              "</svg>\n",
              "  </button>\n",
              "\n",
              "<style>\n",
              "  .colab-df-quickchart {\n",
              "      --bg-color: #E8F0FE;\n",
              "      --fill-color: #1967D2;\n",
              "      --hover-bg-color: #E2EBFA;\n",
              "      --hover-fill-color: #174EA6;\n",
              "      --disabled-fill-color: #AAA;\n",
              "      --disabled-bg-color: #DDD;\n",
              "  }\n",
              "\n",
              "  [theme=dark] .colab-df-quickchart {\n",
              "      --bg-color: #3B4455;\n",
              "      --fill-color: #D2E3FC;\n",
              "      --hover-bg-color: #434B5C;\n",
              "      --hover-fill-color: #FFFFFF;\n",
              "      --disabled-bg-color: #3B4455;\n",
              "      --disabled-fill-color: #666;\n",
              "  }\n",
              "\n",
              "  .colab-df-quickchart {\n",
              "    background-color: var(--bg-color);\n",
              "    border: none;\n",
              "    border-radius: 50%;\n",
              "    cursor: pointer;\n",
              "    display: none;\n",
              "    fill: var(--fill-color);\n",
              "    height: 32px;\n",
              "    padding: 0;\n",
              "    width: 32px;\n",
              "  }\n",
              "\n",
              "  .colab-df-quickchart:hover {\n",
              "    background-color: var(--hover-bg-color);\n",
              "    box-shadow: 0 1px 2px rgba(60, 64, 67, 0.3), 0 1px 3px 1px rgba(60, 64, 67, 0.15);\n",
              "    fill: var(--button-hover-fill-color);\n",
              "  }\n",
              "\n",
              "  .colab-df-quickchart-complete:disabled,\n",
              "  .colab-df-quickchart-complete:disabled:hover {\n",
              "    background-color: var(--disabled-bg-color);\n",
              "    fill: var(--disabled-fill-color);\n",
              "    box-shadow: none;\n",
              "  }\n",
              "\n",
              "  .colab-df-spinner {\n",
              "    border: 2px solid var(--fill-color);\n",
              "    border-color: transparent;\n",
              "    border-bottom-color: var(--fill-color);\n",
              "    animation:\n",
              "      spin 1s steps(1) infinite;\n",
              "  }\n",
              "\n",
              "  @keyframes spin {\n",
              "    0% {\n",
              "      border-color: transparent;\n",
              "      border-bottom-color: var(--fill-color);\n",
              "      border-left-color: var(--fill-color);\n",
              "    }\n",
              "    20% {\n",
              "      border-color: transparent;\n",
              "      border-left-color: var(--fill-color);\n",
              "      border-top-color: var(--fill-color);\n",
              "    }\n",
              "    30% {\n",
              "      border-color: transparent;\n",
              "      border-left-color: var(--fill-color);\n",
              "      border-top-color: var(--fill-color);\n",
              "      border-right-color: var(--fill-color);\n",
              "    }\n",
              "    40% {\n",
              "      border-color: transparent;\n",
              "      border-right-color: var(--fill-color);\n",
              "      border-top-color: var(--fill-color);\n",
              "    }\n",
              "    60% {\n",
              "      border-color: transparent;\n",
              "      border-right-color: var(--fill-color);\n",
              "    }\n",
              "    80% {\n",
              "      border-color: transparent;\n",
              "      border-right-color: var(--fill-color);\n",
              "      border-bottom-color: var(--fill-color);\n",
              "    }\n",
              "    90% {\n",
              "      border-color: transparent;\n",
              "      border-bottom-color: var(--fill-color);\n",
              "    }\n",
              "  }\n",
              "</style>\n",
              "\n",
              "  <script>\n",
              "    async function quickchart(key) {\n",
              "      const quickchartButtonEl =\n",
              "        document.querySelector('#' + key + ' button');\n",
              "      quickchartButtonEl.disabled = true;  // To prevent multiple clicks.\n",
              "      quickchartButtonEl.classList.add('colab-df-spinner');\n",
              "      try {\n",
              "        const charts = await google.colab.kernel.invokeFunction(\n",
              "            'suggestCharts', [key], {});\n",
              "      } catch (error) {\n",
              "        console.error('Error during call to suggestCharts:', error);\n",
              "      }\n",
              "      quickchartButtonEl.classList.remove('colab-df-spinner');\n",
              "      quickchartButtonEl.classList.add('colab-df-quickchart-complete');\n",
              "    }\n",
              "    (() => {\n",
              "      let quickchartButtonEl =\n",
              "        document.querySelector('#df-866eedc7-5e81-42c4-a69e-6a4542617666 button');\n",
              "      quickchartButtonEl.style.display =\n",
              "        google.colab.kernel.accessAllowed ? 'block' : 'none';\n",
              "    })();\n",
              "  </script>\n",
              "</div>\n",
              "\n",
              "  <div id=\"id_65b1e8b6-b4c1-4536-832f-75b1664c59ba\">\n",
              "    <style>\n",
              "      .colab-df-generate {\n",
              "        background-color: #E8F0FE;\n",
              "        border: none;\n",
              "        border-radius: 50%;\n",
              "        cursor: pointer;\n",
              "        display: none;\n",
              "        fill: #1967D2;\n",
              "        height: 32px;\n",
              "        padding: 0 0 0 0;\n",
              "        width: 32px;\n",
              "      }\n",
              "\n",
              "      .colab-df-generate:hover {\n",
              "        background-color: #E2EBFA;\n",
              "        box-shadow: 0px 1px 2px rgba(60, 64, 67, 0.3), 0px 1px 3px 1px rgba(60, 64, 67, 0.15);\n",
              "        fill: #174EA6;\n",
              "      }\n",
              "\n",
              "      [theme=dark] .colab-df-generate {\n",
              "        background-color: #3B4455;\n",
              "        fill: #D2E3FC;\n",
              "      }\n",
              "\n",
              "      [theme=dark] .colab-df-generate:hover {\n",
              "        background-color: #434B5C;\n",
              "        box-shadow: 0px 1px 3px 1px rgba(0, 0, 0, 0.15);\n",
              "        filter: drop-shadow(0px 1px 2px rgba(0, 0, 0, 0.3));\n",
              "        fill: #FFFFFF;\n",
              "      }\n",
              "    </style>\n",
              "    <button class=\"colab-df-generate\" onclick=\"generateWithVariable('data')\"\n",
              "            title=\"Generate code using this dataframe.\"\n",
              "            style=\"display:none;\">\n",
              "\n",
              "  <svg xmlns=\"http://www.w3.org/2000/svg\" height=\"24px\"viewBox=\"0 0 24 24\"\n",
              "       width=\"24px\">\n",
              "    <path d=\"M7,19H8.4L18.45,9,17,7.55,7,17.6ZM5,21V16.75L18.45,3.32a2,2,0,0,1,2.83,0l1.4,1.43a1.91,1.91,0,0,1,.58,1.4,1.91,1.91,0,0,1-.58,1.4L9.25,21ZM18.45,9,17,7.55Zm-12,3A5.31,5.31,0,0,0,4.9,8.1,5.31,5.31,0,0,0,1,6.5,5.31,5.31,0,0,0,4.9,4.9,5.31,5.31,0,0,0,6.5,1,5.31,5.31,0,0,0,8.1,4.9,5.31,5.31,0,0,0,12,6.5,5.46,5.46,0,0,0,6.5,12Z\"/>\n",
              "  </svg>\n",
              "    </button>\n",
              "    <script>\n",
              "      (() => {\n",
              "      const buttonEl =\n",
              "        document.querySelector('#id_65b1e8b6-b4c1-4536-832f-75b1664c59ba button.colab-df-generate');\n",
              "      buttonEl.style.display =\n",
              "        google.colab.kernel.accessAllowed ? 'block' : 'none';\n",
              "\n",
              "      buttonEl.onclick = () => {\n",
              "        google.colab.notebook.generateWithVariable('data');\n",
              "      }\n",
              "      })();\n",
              "    </script>\n",
              "  </div>\n",
              "\n",
              "    </div>\n",
              "  </div>\n"
            ],
            "application/vnd.google.colaboratory.intrinsic+json": {
              "type": "dataframe",
              "variable_name": "data",
              "summary": "{\n  \"name\": \"data\",\n  \"rows\": 117,\n  \"fields\": [\n    {\n      \"column\": \"Unnamed: 0\",\n      \"properties\": {\n        \"dtype\": \"string\",\n        \"num_unique_values\": 77,\n        \"samples\": [\n          \"715523106004\",\n          \"715523106035\",\n          \"715523106010\"\n        ],\n        \"semantic_type\": \"\",\n        \"description\": \"\"\n      }\n    },\n    {\n      \"column\": \"Subject Code - >\",\n      \"properties\": {\n        \"dtype\": \"string\",\n        \"num_unique_values\": 75,\n        \"samples\": [\n          \"ABIRAMI NACHAMMAI  K S\",\n          \"NANTHAVIKRAMAN  M S\",\n          \"AKASH  R\"\n        ],\n        \"semantic_type\": \"\",\n        \"description\": \"\"\n      }\n    },\n    {\n      \"column\": \"BS3171\",\n      \"properties\": {\n        \"dtype\": \"category\",\n        \"num_unique_values\": 3,\n        \"samples\": [\n          \"Grade\",\n          \"O\",\n          \"A+\"\n        ],\n        \"semantic_type\": \"\",\n        \"description\": \"\"\n      }\n    },\n    {\n      \"column\": \"CY3151\",\n      \"properties\": {\n        \"dtype\": \"category\",\n        \"num_unique_values\": 7,\n        \"samples\": [\n          \"Grade\",\n          \"O\",\n          \"B+\"\n        ],\n        \"semantic_type\": \"\",\n        \"description\": \"\"\n      }\n    },\n    {\n      \"column\": \"GE3151\",\n      \"properties\": {\n        \"dtype\": \"category\",\n        \"num_unique_values\": 8,\n        \"samples\": [\n          \"A\",\n          \"O\",\n          \"Grade\"\n        ],\n        \"semantic_type\": \"\",\n        \"description\": \"\"\n      }\n    },\n    {\n      \"column\": \"GE3152\",\n      \"properties\": {\n        \"dtype\": \"category\",\n        \"num_unique_values\": 6,\n        \"samples\": [\n          \"Grade\",\n          \"O\",\n          \"B\"\n        ],\n        \"semantic_type\": \"\",\n        \"description\": \"\"\n      }\n    },\n    {\n      \"column\": \"GE3171\",\n      \"properties\": {\n        \"dtype\": \"category\",\n        \"num_unique_values\": 3,\n        \"samples\": [\n          \"Grade\",\n          \"O\",\n          \"A+\"\n        ],\n        \"semantic_type\": \"\",\n        \"description\": \"\"\n      }\n    },\n    {\n      \"column\": \"GE3172\",\n      \"properties\": {\n        \"dtype\": \"category\",\n        \"num_unique_values\": 2,\n        \"samples\": [\n          \"O\",\n          \"Grade\"\n        ],\n        \"semantic_type\": \"\",\n        \"description\": \"\"\n      }\n    },\n    {\n      \"column\": \"HS3152\",\n      \"properties\": {\n        \"dtype\": \"category\",\n        \"num_unique_values\": 5,\n        \"samples\": [\n          \"A\",\n          \"B\"\n        ],\n        \"semantic_type\": \"\",\n        \"description\": \"\"\n      }\n    },\n    {\n      \"column\": \"MA3151\",\n      \"properties\": {\n        \"dtype\": \"category\",\n        \"num_unique_values\": 7,\n        \"samples\": [\n          \"Grade\",\n          \"O\"\n        ],\n        \"semantic_type\": \"\",\n        \"description\": \"\"\n      }\n    },\n    {\n      \"column\": \"PH3151\",\n      \"properties\": {\n        \"dtype\": \"category\",\n        \"num_unique_values\": 6,\n        \"samples\": [\n          \"Grade\",\n          \"O\"\n        ],\n        \"semantic_type\": \"\",\n        \"description\": \"\"\n      }\n    }\n  ]\n}"
            }
          },
          "metadata": {},
          "execution_count": 26
        }
      ]
    },
    {
      "cell_type": "code",
      "source": [
        "with open(csv_file, 'r', newline='') as csvfile:\n",
        "    reader = csv.DictReader(csvfile)\n",
        "    print(reader.fieldnames)"
      ],
      "metadata": {
        "colab": {
          "base_uri": "https://localhost:8080/"
        },
        "id": "J0iejXe2fhXg",
        "outputId": "63608be8-40d6-4107-ee0a-c06a1b55d28c"
      },
      "execution_count": 30,
      "outputs": [
        {
          "output_type": "stream",
          "name": "stdout",
          "text": [
            "['', 'Subject Code - >', 'BS3171', 'CY3151', 'GE3151', 'GE3152', 'GE3171', 'GE3172', 'HS3152', 'MA3151', 'PH3151']\n"
          ]
        }
      ]
    },
    {
      "cell_type": "code",
      "source": [
        "import csv\n",
        "\n",
        "def count_grades(csv_file, column_name):\n",
        "    # Dictionary to store the counts of each grade\n",
        "    grade_counts = {\n",
        "        'O': 0,\n",
        "        'A+': 0,\n",
        "        'A': 0,\n",
        "        'B': 0,\n",
        "        'B+': 0,\n",
        "        'C': 0,\n",
        "        'E': 0,\n",
        "        'U': 0\n",
        "    }\n",
        "\n",
        "    # Open the CSV file\n",
        "    with open(csv_file, 'r', newline='') as csvfile:\n",
        "        reader = csv.DictReader(csvfile)\n",
        "\n",
        "        # Iterate over each row\n",
        "        for row in reader:\n",
        "            # Extract the grade from the specified column\n",
        "            grade = row[column_name]\n",
        "\n",
        "            # Increment the count for the corresponding grade\n",
        "            if grade in grade_counts:\n",
        "                grade_counts[grade] += 1\n",
        "\n",
        "    return grade_counts\n",
        "\n",
        "# Example usage\n",
        "csv_file = '/content/sample_data/NOV DEC2023 ECE RESULTS.csv'\n",
        "column_name = 'MA3151'\n",
        "\n",
        "grade_counts = count_grades(csv_file, column_name)\n",
        "\n",
        "# Print the counts\n",
        "for grade, count in grade_counts.items():\n",
        "    print(f'Grade: {grade}, Count: {count}')\n"
      ],
      "metadata": {
        "colab": {
          "base_uri": "https://localhost:8080/"
        },
        "id": "MPCYBQmjgrP_",
        "outputId": "53ae8d33-9e4a-4a6e-d2ba-8e3ea727fc59"
      },
      "execution_count": 29,
      "outputs": [
        {
          "output_type": "stream",
          "name": "stdout",
          "text": [
            "Grade: O, Count: 44\n",
            "Grade: A+, Count: 27\n",
            "Grade: A, Count: 22\n",
            "Grade: B, Count: 7\n",
            "Grade: B+, Count: 10\n",
            "Grade: C, Count: 2\n",
            "Grade: E, Count: 0\n",
            "Grade: U, Count: 0\n"
          ]
        }
      ]
    },
    {
      "cell_type": "code",
      "source": [
        "import csv\n",
        "\n",
        "def count_grades(csv_file, column_name):\n",
        "    # Dictionary to store the counts of each grade\n",
        "    grade_counts = {\n",
        "        'O': 0,\n",
        "        'A+': 0,\n",
        "        'A': 0,\n",
        "        'B': 0,\n",
        "        'B+': 0,\n",
        "        'C': 0,\n",
        "        'E': 0,\n",
        "        'U': 0\n",
        "    }\n",
        "\n",
        "    # Open the CSV file\n",
        "    with open(csv_file, 'r', newline='') as csvfile:\n",
        "        reader = csv.DictReader(csvfile)\n",
        "\n",
        "        # Iterate over each row\n",
        "        for row in reader:\n",
        "            # Extract the grade from the specified column\n",
        "            grade = row[column_name]\n",
        "\n",
        "            # Increment the count for the corresponding grade\n",
        "            if grade in grade_counts:\n",
        "                grade_counts[grade] += 1\n",
        "\n",
        "    return grade_counts\n",
        "\n",
        "def save_grade_counts(grade_counts, output_file):\n",
        "    # Open the output CSV file for writing\n",
        "    with open(output_file, 'w', newline='') as csvfile:\n",
        "        writer = csv.writer(csvfile)\n",
        "\n",
        "        # Write the header\n",
        "        writer.writerow(['Grade', 'Count'])\n",
        "\n",
        "        # Write the grade counts\n",
        "        for grade, count in grade_counts.items():\n",
        "            writer.writerow([grade, count])\n",
        "\n",
        "# Example usage\n",
        "csv_file = '/content/sample_data/NOV DEC2023 ECE RESULTS.csv'\n",
        "column_name = 'MA3151'\n",
        "\n",
        "grade_counts = count_grades(csv_file, column_name)\n",
        "\n",
        "# Specify the output file path\n",
        "output_file = 'grade_counts.csv'\n",
        "\n",
        "# Save the grade counts to the output CSV file\n",
        "save_grade_counts(grade_counts, output_file)\n"
      ],
      "metadata": {
        "id": "o9wrlH85jsXq"
      },
      "execution_count": 32,
      "outputs": []
    }
  ]
}